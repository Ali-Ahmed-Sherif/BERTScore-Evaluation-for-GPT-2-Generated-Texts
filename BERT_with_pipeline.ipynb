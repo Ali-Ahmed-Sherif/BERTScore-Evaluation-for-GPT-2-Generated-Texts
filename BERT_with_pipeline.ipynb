{
 "cells": [
  {
   "cell_type": "code",
   "execution_count": 1,
   "id": "0c0a7aa8",
   "metadata": {},
   "outputs": [
    {
     "name": "stderr",
     "output_type": "stream",
     "text": [
      "c:\\Users\\Ali Ahmed\\AppData\\Local\\Programs\\Python\\Python38\\lib\\site-packages\\tqdm\\auto.py:21: TqdmWarning: IProgress not found. Please update jupyter and ipywidgets. See https://ipywidgets.readthedocs.io/en/stable/user_install.html\n",
      "  from .autonotebook import tqdm as notebook_tqdm\n",
      "Hardware accelerator e.g. GPU is available in the environment, but no `device` argument is passed to the `Pipeline` object. Model will be on CPU.\n"
     ]
    },
    {
     "name": "stdout",
     "output_type": "stream",
     "text": [
      "Loaded model: gpt2\n"
     ]
    }
   ],
   "source": [
    "\n",
    "from transformers import pipeline, set_seed\n",
    "import torch\n",
    "\n",
    "# Set a global random seed for reproducibility\n",
    "set_seed(42)\n",
    "\n",
    "# For demonstration, we'll load a small or medium-sized model.\n",
    "# (You can change \"gpt2\" to, e.g., \"gpt2-medium\", or another model.)\n",
    "model_name = \"gpt2\"\n",
    "\n",
    "text_generator = pipeline(\n",
    "    \"text-generation\",\n",
    "    model=model_name,\n",
    ")\n",
    "\n",
    "print(f\"Loaded model: {model_name}\")"
   ]
  },
  {
   "cell_type": "code",
   "execution_count": 2,
   "id": "93f5d242",
   "metadata": {},
   "outputs": [
    {
     "name": "stderr",
     "output_type": "stream",
     "text": [
      "Truncation was not explicitly activated but `max_length` is provided a specific value, please use `truncation=True` to explicitly truncate examples to max length. Defaulting to 'longest_first' truncation strategy. If you encode pairs of sequences (GLUE-style) with the tokenizer you can select this strategy more precisely by providing a specific strategy to `truncation`.\n",
      "Setting `pad_token_id` to `eos_token_id`:None for open-end generation.\n",
      "Setting `pad_token_id` to `eos_token_id`:None for open-end generation.\n"
     ]
    },
    {
     "name": "stdout",
     "output_type": "stream",
     "text": [
      "--- Response 1 ---\n",
      "Write a motivational quote about gaining muscle:\n",
      "\n",
      "\"Now that you're up, I've put my body-building power, and I want to do more to try and lift myself up.\n",
      "\n",
      "I know that I'm not a power athlete, when it comes to bodybuilding. All that\n",
      "\n"
     ]
    },
    {
     "name": "stderr",
     "output_type": "stream",
     "text": [
      "Setting `pad_token_id` to `eos_token_id`:None for open-end generation.\n"
     ]
    },
    {
     "name": "stdout",
     "output_type": "stream",
     "text": [
      "--- Response 2 ---\n",
      "Write a motivational quote about gaining muscle and growing strong.\n",
      "\n",
      "I'm not too worried about trying to look sexy, the only one that I think about when it comes to getting into a big muscle building muscle workout is probably my wife. We have been watching her physique for a long time but she\n",
      "\n",
      "--- Response 3 ---\n",
      "Write a motivational quote about gaining muscle mass or getting a higher ranking on a program, but instead, you can read what your motivation says and see what does that help you to. Just use Facebook Messenger as an app to express support with your own motivational quotes. Don't let it sit too far back\n",
      "\n"
     ]
    }
   ],
   "source": [
    "generated_answers = {}\n",
    "\n",
    "# Direct-instruction\n",
    "prompt1 = \"Write a motivational quote about gaining muscle\"\n",
    "answers1 = []\n",
    "for i in range(3):\n",
    "    resp = text_generator(\n",
    "        prompt1,\n",
    "        max_length=60,\n",
    "        do_sample=True,\n",
    "        temperature=1.0,  # Encourage variety\n",
    "    )\n",
    "    answer_text = resp[0][\"generated_text\"]\n",
    "    answers1.append(answer_text)\n",
    "    print(f\"--- Response {i+1} ---\\n{answer_text}\\n\")\n",
    "\n",
    "# Store answers in the dictionary under the \"Direct-instruction\" key\n",
    "generated_answers[\"Direct-instruction\"] = answers1"
   ]
  },
  {
   "cell_type": "code",
   "execution_count": 3,
   "id": "f42386cb",
   "metadata": {},
   "outputs": [
    {
     "name": "stderr",
     "output_type": "stream",
     "text": [
      "Setting `pad_token_id` to `eos_token_id`:None for open-end generation.\n",
      "Setting `pad_token_id` to `eos_token_id`:None for open-end generation.\n"
     ]
    },
    {
     "name": "stdout",
     "output_type": "stream",
     "text": [
      "--- Response 1 ---\n",
      "Imagine you are working 2 jobs a day and taking courses to provide for your family, write something encouraging and fulfilling.\n",
      "\n",
      "I have already put our kids through college at two different institutions, so I am only able to give them grades and make sure they are educated.\n",
      "\n",
      "Some would be worried\n",
      "\n"
     ]
    },
    {
     "name": "stderr",
     "output_type": "stream",
     "text": [
      "Setting `pad_token_id` to `eos_token_id`:None for open-end generation.\n"
     ]
    },
    {
     "name": "stdout",
     "output_type": "stream",
     "text": [
      "--- Response 2 ---\n",
      "Imagine you are working 2 jobs a day and taking courses to provide for your family, write something encouraging about a career or start learning something relevant for your current job. I don't know of any employers who will provide more training that you are studying. If you feel like the situation has been addressed,\n",
      "\n",
      "--- Response 3 ---\n",
      "Imagine you are working 2 jobs a day and taking courses to provide for your family, write something encouraging, write a book, or join a club. You must feel good about yourself, and you need to feel well-rounded. Your mind will become faster and more confident. If your mind has good\n",
      "\n"
     ]
    }
   ],
   "source": [
    "prompt2 = \"Imagine you are working 2 jobs a day and taking courses to provide for your family, write something encouraging\"\n",
    "answers2 = []\n",
    "for i in range(3):\n",
    "    resp = text_generator(\n",
    "        prompt2,\n",
    "        max_length=60,\n",
    "        do_sample=True,\n",
    "        temperature=1.0,  # Encourage variety\n",
    "    )\n",
    "    answer_text = resp[0][\"generated_text\"]\n",
    "    answers2.append(answer_text)\n",
    "    print(f\"--- Response {i+1} ---\\n{answer_text}\\n\")\n",
    "\n",
    "# Store answers in the dictionary under the \"Scenario-based\" key\n",
    "generated_answers[\"Scenario-based\"] = answers2"
   ]
  },
  {
   "cell_type": "code",
   "execution_count": 4,
   "id": "a35d9c8f",
   "metadata": {},
   "outputs": [
    {
     "name": "stderr",
     "output_type": "stream",
     "text": [
      "Setting `pad_token_id` to `eos_token_id`:None for open-end generation.\n",
      "Setting `pad_token_id` to `eos_token_id`:None for open-end generation.\n"
     ]
    },
    {
     "name": "stdout",
     "output_type": "stream",
     "text": [
      "--- Response 1 ---\n",
      "As a Muslim religious person, write something about repenting from sins of omission. This is what many would ask of a person saying \"I didn't commit sins because of sin\" or \"I didn't commit sin for the sake of being Muslim\" or \"I didn't commit sins for the sake\n",
      "\n"
     ]
    },
    {
     "name": "stderr",
     "output_type": "stream",
     "text": [
      "Setting `pad_token_id` to `eos_token_id`:None for open-end generation.\n"
     ]
    },
    {
     "name": "stdout",
     "output_type": "stream",
     "text": [
      "--- Response 2 ---\n",
      "As a Muslim religious person, write something about repenting from sins.\n",
      "\n",
      "Don't believe in the Bible, the Koran, or any of the other books of revelation.\n",
      "\n",
      "No matter how ridiculous their claims may be, you can't live like this, just like Jesus didn't come from\n",
      "\n",
      "--- Response 3 ---\n",
      "As a Muslim religious person, write something about repenting from sins (by asking your forgiveness). Do not forget to confess your sins so that it seems all there is to it.\n",
      "\n",
      "If you write this book and continue a conversation with me, please share and comment on it. Thanks!\" –\n",
      "\n"
     ]
    }
   ],
   "source": [
    "prompt3 = \"As a Muslim religious person, write something about repenting from sins\"\n",
    "answers3 = []\n",
    "for i in range(3):\n",
    "    resp = text_generator(\n",
    "        prompt3,\n",
    "        max_length=60,\n",
    "        do_sample=True,\n",
    "        temperature=1.0,  # Encourage variety\n",
    "    )\n",
    "    answer_text = resp[0][\"generated_text\"]\n",
    "    answers3.append(answer_text)\n",
    "    print(f\"--- Response {i+1} ---\\n{answer_text}\\n\")\n",
    "\n",
    "# Store answers in the dictionary under the \"Persona-based\" key\n",
    "generated_answers[\"Persona-based\"] = answers3"
   ]
  },
  {
   "cell_type": "code",
   "execution_count": 5,
   "id": "e0df0abf",
   "metadata": {},
   "outputs": [
    {
     "name": "stderr",
     "output_type": "stream",
     "text": [
      "Setting `pad_token_id` to `eos_token_id`:None for open-end generation.\n",
      "Setting `pad_token_id` to `eos_token_id`:None for open-end generation.\n"
     ]
    },
    {
     "name": "stdout",
     "output_type": "stream",
     "text": [
      "--- Response 1 ---\n",
      "Using the words 'growth', 'struggle', and 'hope', write something inspiring.\n",
      "\n",
      "\"The most important thing to know is that there is NO HOPE, NO HEART TO MAKE YOU A THING.\n",
      "\n",
      "\"That's what we've been talking about in those very\n",
      "\n"
     ]
    },
    {
     "name": "stderr",
     "output_type": "stream",
     "text": [
      "Setting `pad_token_id` to `eos_token_id`:None for open-end generation.\n"
     ]
    },
    {
     "name": "stdout",
     "output_type": "stream",
     "text": [
      "--- Response 2 ---\n",
      "Using the words 'growth', 'struggle', and 'hope', write something inspiring. This is the part of our job it is to write inspirational content – this is the part of our job that is to use them. When you hear others calling out the use of this 'negative language'\n",
      "\n",
      "--- Response 3 ---\n",
      "Using the words 'growth', 'struggle', and 'hope', write something inspiring. The word 'tactics', 'wisdom', and/or 'a sense of unity are not the same thing and what they are together, there is an alternative that can be found by comparing it\n",
      "\n"
     ]
    }
   ],
   "source": [
    "prompt4 = \"Using the words 'growth', 'struggle', and 'hope', write something inspiring.\"\n",
    "answers4 = []\n",
    "for i in range(3):\n",
    "    resp = text_generator(\n",
    "        prompt4,\n",
    "        max_length=60,\n",
    "        do_sample=True,\n",
    "        temperature=1.0,  # Encourage variety\n",
    "    )\n",
    "    answer_text = resp[0][\"generated_text\"]\n",
    "    answers4.append(answer_text)\n",
    "    print(f\"--- Response {i+1} ---\\n{answer_text}\\n\")\n",
    "\n",
    "    generated_answers[\"Keyword-based\"] = answers4"
   ]
  },
  {
   "cell_type": "code",
   "execution_count": 6,
   "id": "41063b80",
   "metadata": {},
   "outputs": [
    {
     "name": "stderr",
     "output_type": "stream",
     "text": [
      "Setting `pad_token_id` to `eos_token_id`:None for open-end generation.\n",
      "Setting `pad_token_id` to `eos_token_id`:None for open-end generation.\n"
     ]
    },
    {
     "name": "stdout",
     "output_type": "stream",
     "text": [
      "--- Response 1 ---\n",
      "I feel like I'm not getting an internship this summer. GPT-2: Here's a quote for you guys. What you guys are all about is bringing kids, so there will be a lot. And so, there's a lot of people like my students going to Biola. G\n",
      "\n"
     ]
    },
    {
     "name": "stderr",
     "output_type": "stream",
     "text": [
      "Setting `pad_token_id` to `eos_token_id`:None for open-end generation.\n"
     ]
    },
    {
     "name": "stdout",
     "output_type": "stream",
     "text": [
      "--- Response 2 ---\n",
      "I feel like I'm not getting an internship this summer. GPT-2: Here's a quote for you guys: \"It'd be cool for us to do a full length program. We could start a couple weeks early.\" (The program's not set in stone.) We would then start\n",
      "\n",
      "--- Response 3 ---\n",
      "I feel like I'm not getting an internship this summer. GPT-2: Here's a quote for you; I have a lot of advice to offer for you? A: The worst place to start looking is a good work environment. The one thing that I have learned from you is this\n",
      "\n"
     ]
    }
   ],
   "source": [
    "# Conversational\n",
    "prompt5 = \"I feel like I'm not getting an internship this summer. GPT-2: Here's a quote for you\"\n",
    "answers5 = []\n",
    "for i in range(3):\n",
    "    resp = text_generator(\n",
    "        prompt5,\n",
    "        max_length=60,\n",
    "        do_sample=True,\n",
    "        temperature=1.0,  \n",
    "    )\n",
    "    answer_text = resp[0][\"generated_text\"]\n",
    "    answers5.append(answer_text)\n",
    "    print(f\"--- Response {i+1} ---\\n{answer_text}\\n\")\n",
    "\n",
    "# Store answers in the dictionary under the \"Conversational\" key\n",
    "generated_answers[\"Conversational\"] = answers5\n"
   ]
  },
  {
   "cell_type": "code",
   "execution_count": 7,
   "id": "2067c439",
   "metadata": {},
   "outputs": [
    {
     "name": "stdout",
     "output_type": "stream",
     "text": [
      "Generated Answers Dictionary:\n",
      "{'Direct-instruction': ['Write a motivational quote about gaining muscle:\\n\\n\"Now that you\\'re up, I\\'ve put my body-building power, and I want to do more to try and lift myself up.\\n\\nI know that I\\'m not a power athlete, when it comes to bodybuilding. All that', \"Write a motivational quote about gaining muscle and growing strong.\\n\\nI'm not too worried about trying to look sexy, the only one that I think about when it comes to getting into a big muscle building muscle workout is probably my wife. We have been watching her physique for a long time but she\", \"Write a motivational quote about gaining muscle mass or getting a higher ranking on a program, but instead, you can read what your motivation says and see what does that help you to. Just use Facebook Messenger as an app to express support with your own motivational quotes. Don't let it sit too far back\"], 'Scenario-based': ['Imagine you are working 2 jobs a day and taking courses to provide for your family, write something encouraging and fulfilling.\\n\\nI have already put our kids through college at two different institutions, so I am only able to give them grades and make sure they are educated.\\n\\nSome would be worried', \"Imagine you are working 2 jobs a day and taking courses to provide for your family, write something encouraging about a career or start learning something relevant for your current job. I don't know of any employers who will provide more training that you are studying. If you feel like the situation has been addressed,\", 'Imagine you are working 2 jobs a day and taking courses to provide for your family, write something encouraging, write a book, or join a club. You must feel good about yourself, and you need to feel well-rounded. Your mind will become faster and more confident. If your mind has good'], 'Persona-based': ['As a Muslim religious person, write something about repenting from sins of omission. This is what many would ask of a person saying \"I didn\\'t commit sins because of sin\" or \"I didn\\'t commit sin for the sake of being Muslim\" or \"I didn\\'t commit sins for the sake', \"As a Muslim religious person, write something about repenting from sins.\\n\\nDon't believe in the Bible, the Koran, or any of the other books of revelation.\\n\\nNo matter how ridiculous their claims may be, you can't live like this, just like Jesus didn't come from\", 'As a Muslim religious person, write something about repenting from sins (by asking your forgiveness). Do not forget to confess your sins so that it seems all there is to it.\\n\\nIf you write this book and continue a conversation with me, please share and comment on it. Thanks!\" –'], 'Keyword-based': ['Using the words \\'growth\\', \\'struggle\\', and \\'hope\\', write something inspiring.\\n\\n\"The most important thing to know is that there is NO HOPE, NO HEART TO MAKE YOU A THING.\\n\\n\"That\\'s what we\\'ve been talking about in those very', \"Using the words 'growth', 'struggle', and 'hope', write something inspiring. This is the part of our job it is to write inspirational content – this is the part of our job that is to use them. When you hear others calling out the use of this 'negative language'\", \"Using the words 'growth', 'struggle', and 'hope', write something inspiring. The word 'tactics', 'wisdom', and/or 'a sense of unity are not the same thing and what they are together, there is an alternative that can be found by comparing it\"], 'Conversational': [\"I feel like I'm not getting an internship this summer. GPT-2: Here's a quote for you guys. What you guys are all about is bringing kids, so there will be a lot. And so, there's a lot of people like my students going to Biola. G\", 'I feel like I\\'m not getting an internship this summer. GPT-2: Here\\'s a quote for you guys: \"It\\'d be cool for us to do a full length program. We could start a couple weeks early.\" (The program\\'s not set in stone.) We would then start', \"I feel like I'm not getting an internship this summer. GPT-2: Here's a quote for you; I have a lot of advice to offer for you? A: The worst place to start looking is a good work environment. The one thing that I have learned from you is this\"]}\n"
     ]
    }
   ],
   "source": [
    "print(\"Generated Answers Dictionary:\")\n",
    "print(generated_answers)"
   ]
  },
  {
   "cell_type": "code",
   "execution_count": 12,
   "id": "fd7b1da2",
   "metadata": {},
   "outputs": [
    {
     "name": "stderr",
     "output_type": "stream",
     "text": [
      "Some weights of RobertaModel were not initialized from the model checkpoint at roberta-large and are newly initialized: ['roberta.pooler.dense.bias', 'roberta.pooler.dense.weight']\n",
      "You should probably TRAIN this model on a down-stream task to be able to use it for predictions and inference.\n"
     ]
    },
    {
     "name": "stdout",
     "output_type": "stream",
     "text": [
      "+--------------------+----------+--------------------+\n",
      "|    Prompt Type     | Output # |    BERTScore F1    |\n",
      "+--------------------+----------+--------------------+\n",
      "| Direct-instruction |    1     | 0.8449934720993042 |\n",
      "| Direct-instruction |    2     | 0.8504651188850403 |\n",
      "| Direct-instruction |    3     | 0.8425896167755127 |\n",
      "|   Scenario-based   |    1     | 0.8429601788520813 |\n",
      "|   Scenario-based   |    2     | 0.844416618347168  |\n",
      "|   Scenario-based   |    3     | 0.8464372754096985 |\n",
      "|   Persona-based    |    1     | 0.8504766225814819 |\n",
      "|   Persona-based    |    2     | 0.8476493954658508 |\n",
      "|   Persona-based    |    3     | 0.8630784749984741 |\n",
      "|   Keyword-based    |    1     | 0.8426648378372192 |\n",
      "|   Keyword-based    |    2     | 0.8516771793365479 |\n",
      "|   Keyword-based    |    3     | 0.8489248156547546 |\n",
      "|   Conversational   |    1     |  0.84276282787323  |\n",
      "|   Conversational   |    2     | 0.8431457281112671 |\n",
      "|   Conversational   |    3     | 0.8528798818588257 |\n",
      "+--------------------+----------+--------------------+\n"
     ]
    }
   ],
   "source": [
    "from bert_score import score\n",
    "import pandas as pd\n",
    "from tabulate import tabulate\n",
    "\n",
    "# Human-written references for each prompt\n",
    "humanwritter_quotes = {\n",
    "    \"Direct-instruction\": \"Strength and growth come only through continuous effort and struggle.\",\n",
    "    \"Scenario-based\": \"The only way to do great work is to love what you do. If you haven't found it yet, keep looking. Don't settle.\",\n",
    "    \"Persona-based\": \"Repenting means to admit our sin openly, feel remorse, and turn away from committing it again.\",\n",
    "    \"Keyword-based\": \"Strength and growth come only through continuous effort and struggle.\",\n",
    "    \"Conversational\": \"The only way to do great work is to love what you do. If you haven't found it yet, keep looking. Don't settle.\"\n",
    "}\n",
    "\n",
    "# Function to calculate BERTScore for each generated response\n",
    "def calculate_bertscore(generated_answers, humanwritter_quotes):\n",
    "    result = []\n",
    "    candidates = []\n",
    "    references = []\n",
    "\n",
    "    # Collecting candidates and references\n",
    "    for prompt_type in generated_answers:\n",
    "        for gen_text in generated_answers[prompt_type]:\n",
    "            candidates.append(gen_text)\n",
    "            references.append(humanwritter_quotes[prompt_type])\n",
    "\n",
    "    # Calculate BERTScore in batches for efficiency\n",
    "    P, R, F1 = score(candidates, references, lang=\"en\", batch_size=8, use_fast_tokenizer=True, nthreads=4)\n",
    "\n",
    "    # Storing results\n",
    "    for idx, f1 in enumerate(F1):\n",
    "        result.append({\n",
    "            \"Prompt Type\": list(generated_answers.keys())[idx // 3],  # Assuming num_samples=3\n",
    "            \"Output #\": idx % 3 + 1,\n",
    "            \"BERTScore F1\": f1.item()\n",
    "        })\n",
    "\n",
    "    return result\n",
    "\n",
    "# Get the BERTScore results\n",
    "results = calculate_bertscore(generated_answers, humanwritter_quotes)\n",
    "\n",
    "# Create a DataFrame for nice display in a table format\n",
    "results_df = pd.DataFrame(results)\n",
    "\n",
    "# Use tabulate to display the DataFrame as a formatted table in the terminal\n",
    "print(tabulate(results_df, headers='keys', tablefmt='pretty', showindex=False))\n"
   ]
  }
 ],
 "metadata": {
  "kernelspec": {
   "display_name": "Python 3",
   "language": "python",
   "name": "python3"
  },
  "language_info": {
   "codemirror_mode": {
    "name": "ipython",
    "version": 3
   },
   "file_extension": ".py",
   "mimetype": "text/x-python",
   "name": "python",
   "nbconvert_exporter": "python",
   "pygments_lexer": "ipython3",
   "version": "3.8.10"
  }
 },
 "nbformat": 4,
 "nbformat_minor": 5
}
